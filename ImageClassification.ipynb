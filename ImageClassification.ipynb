{
 "cells": [
  {
   "cell_type": "code",
   "execution_count": 20,
   "metadata": {
    "collapsed": false,
    "scrolled": true
   },
   "outputs": [
    {
     "name": "stdout",
     "output_type": "stream",
     "text": [
      "n03201208\n",
      "0.552365422249\n"
     ]
    }
   ],
   "source": [
    "# Import Keras and VGG16 - Neural Network Model\n",
    "from keras.optimizers import SGD\n",
    "from convnetskeras.convnets import preprocess_image_batch, convnet\n",
    "from convnetskeras.imagenet_tool import id_to_synset\n",
    "\n",
    "# Load an image (Use more later)\n",
    "path = 'table/000000012.jpg'\n",
    "\n",
    "# And resize it to fit\n",
    "im = preprocess_image_batch([path],img_size=(256,256), crop_size=(224,224), color_mode=\"bgr\")\n",
    "\n",
    "# Specify Model Parameters, load pretrained weights and compile Model\n",
    "sgd = SGD(lr=0.1, decay=1e-6, momentum=0.9, nesterov=True)\n",
    "model = convnet('vgg_16',weights_path=\"vgg16_weights.h5\", heatmap=False)\n",
    "model.compile(optimizer=sgd, loss='mse')\n",
    "\n",
    "# Predict image \n",
    "out = model.predict(im)\n",
    "\n",
    "# Index of maximum gives us the Synset = Category\n",
    "print(id_to_synset(out.argmax()))\n",
    "\n",
    "# Maximum value corresponds to the networks \"certainty\" \n",
    "print(out.max())"
   ]
  },
  {
   "cell_type": "code",
   "execution_count": null,
   "metadata": {
    "collapsed": true
   },
   "outputs": [],
   "source": []
  }
 ],
 "metadata": {
  "kernelspec": {
   "display_name": "Python 3",
   "language": "python",
   "name": "python3"
  },
  "language_info": {
   "codemirror_mode": {
    "name": "ipython",
    "version": 3
   },
   "file_extension": ".py",
   "mimetype": "text/x-python",
   "name": "python",
   "nbconvert_exporter": "python",
   "pygments_lexer": "ipython3",
   "version": "3.5.1"
  }
 },
 "nbformat": 4,
 "nbformat_minor": 0
}
