{
 "cells": [
  {
   "cell_type": "code",
   "execution_count": 37,
   "metadata": {
    "collapsed": false
   },
   "outputs": [],
   "source": [
    "import flickrapi\n",
    "import urllib.request\n",
    "import os\n",
    "\n",
    "# Application key for accessing the Flickr-API\n",
    "key = \"f068714e6ddffb793ef202e551d14f8f\"\n",
    "secret = \"d8f34d5bfce34217\"\n",
    "\n",
    "# Create API-instance\n",
    "flickr = flickrapi.FlickrAPI(key, secret)\n",
    "\n",
    "# Define terms for image search on Flickr\n",
    "# Terms should be sensible Categories and available Classes from ImageNet\n",
    "tags = [\"table\", \"car\", \"airplane\", \"church\"]\n",
    "\n",
    "# Download images per term\n",
    "for tag in tags:\n",
    "    \n",
    "    # Create folder to store images in\n",
    "    if not os.path.exists(tag):\n",
    "        os.mkdir(tag)\n",
    "    \n",
    "    # Iterate through search results ordered by relevance\n",
    "    for i,photo in enumerate(flickr.walk(tag_mode='all',\n",
    "            text=tag,sort=\"relevance\")):\n",
    "        \n",
    "        if i > 50: break; # Stop after 50 images\n",
    "        # Download the image    \n",
    "        img_url = \"http://farm%s.static.flickr.com/%s/%s_%s_m.jpg\" % (photo.get('farm'), photo.get('server'), photo.get('id'), photo.get('secret'))\n",
    "        # Save images to folder\n",
    "        with open(tag + \"/0000000\" + str(i) + \".jpg\", \"wb\") as f:\n",
    "            with urllib.request.urlopen(img_url) as url:\n",
    "                f.write(url.read())"
   ]
  },
  {
   "cell_type": "code",
   "execution_count": null,
   "metadata": {
    "collapsed": true
   },
   "outputs": [],
   "source": []
  }
 ],
 "metadata": {
  "kernelspec": {
   "display_name": "Python 3",
   "language": "python",
   "name": "python3"
  },
  "language_info": {
   "codemirror_mode": {
    "name": "ipython",
    "version": 3
   },
   "file_extension": ".py",
   "mimetype": "text/x-python",
   "name": "python",
   "nbconvert_exporter": "python",
   "pygments_lexer": "ipython3",
   "version": "3.5.1"
  }
 },
 "nbformat": 4,
 "nbformat_minor": 0
}
